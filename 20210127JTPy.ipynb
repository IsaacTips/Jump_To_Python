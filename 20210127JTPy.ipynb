{
  "nbformat": 4,
  "nbformat_minor": 0,
  "metadata": {
    "colab": {
      "name": "20210127JTPy",
      "provenance": [],
      "collapsed_sections": [
        "D7O1568rHk3l",
        "u4emaXYKg_El"
      ],
      "authorship_tag": "ABX9TyNgpmy1tpqtKtxlhYzi3kTd",
      "include_colab_link": true
    },
    "kernelspec": {
      "name": "python3",
      "display_name": "Python 3"
    }
  },
  "cells": [
    {
      "cell_type": "markdown",
      "metadata": {
        "id": "view-in-github",
        "colab_type": "text"
      },
      "source": [
        "<a href=\"https://colab.research.google.com/github/IsaacTips/Jump_To_Python/blob/main/20210127JTPy.ipynb\" target=\"_parent\"><img src=\"https://colab.research.google.com/assets/colab-badge.svg\" alt=\"Open In Colab\"/></a>"
      ]
    },
    {
      "cell_type": "markdown",
      "metadata": {
        "id": "4QxZe2TAhFON"
      },
      "source": [
        "# 04장 프로그램의 입력과 출력은 어떻게 해야 할까?"
      ]
    },
    {
      "cell_type": "markdown",
      "metadata": {
        "id": "D7O1568rHk3l"
      },
      "source": [
        "## 04-1 함수\r\n",
        "과일, 설탕 -> 믹서(함수) -> 주스\r\n",
        "\r\n",
        "$f(x) = 2x + 3$\r\n",
        "\r\n",
        "코딩에서의 함수는 입력, 출력 없을 수 있음.\r\n",
        "아니면 입력이 없고 출력이 있을 수 있다. 마찬가지로 입력은 있는데 출력이 없을 수 있다.\r\n",
        "\r\n",
        "함수 구조\r\n",
        "\r\n",
        "```\r\n",
        "def 함수명(매개변수):\r\n",
        "    <수행할 문장1>\r\n",
        "    <수행할 문장2>\r\n",
        "    ...\r\n",
        "return 리턴값\r\n",
        "```"
      ]
    },
    {
      "cell_type": "code",
      "metadata": {
        "colab": {
          "base_uri": "https://localhost:8080/"
        },
        "id": "32fGDtI-HeA5",
        "outputId": "5b5ccc02-90f7-4ad7-adf8-51b1b1064e20"
      },
      "source": [
        "# 함수 정의\r\n",
        "def sum(a, b):\r\n",
        "    result = a + b\r\n",
        "    return result\r\n",
        "\r\n",
        "# 함수 호출'\r\n",
        "print(sum(1, 2))"
      ],
      "execution_count": null,
      "outputs": [
        {
          "output_type": "stream",
          "text": [
            "3\n"
          ],
          "name": "stdout"
        }
      ]
    },
    {
      "cell_type": "markdown",
      "metadata": {
        "id": "CDY8PCLxHj8H"
      },
      "source": [
        "입력값이 없는 함수"
      ]
    },
    {
      "cell_type": "code",
      "metadata": {
        "colab": {
          "base_uri": "https://localhost:8080/"
        },
        "id": "D3qAqSapHjoO",
        "outputId": "e262c031-abed-4120-b0e0-9f49637badd5"
      },
      "source": [
        "def say():\r\n",
        "    return 'Hi'\r\n",
        "print(say())"
      ],
      "execution_count": null,
      "outputs": [
        {
          "output_type": "stream",
          "text": [
            "Hi\n"
          ],
          "name": "stdout"
        }
      ]
    },
    {
      "cell_type": "markdown",
      "metadata": {
        "id": "cIeOKlWDP-5C"
      },
      "source": [
        "결과값이 없는 함수"
      ]
    },
    {
      "cell_type": "code",
      "metadata": {
        "colab": {
          "base_uri": "https://localhost:8080/"
        },
        "id": "YWvorndrHiX7",
        "outputId": "c3884489-499b-4a94-8906-87ff13f080ad"
      },
      "source": [
        "def sum(a, b):\r\n",
        "    print(\"%d, %d의 합은 %d\" % (a, b, a+b))\r\n",
        "\r\n",
        "print(sum(1, 2))"
      ],
      "execution_count": null,
      "outputs": [
        {
          "output_type": "stream",
          "text": [
            "1, 2의 합은 3\n",
            "None\n"
          ],
          "name": "stdout"
        }
      ]
    },
    {
      "cell_type": "code",
      "metadata": {
        "colab": {
          "base_uri": "https://localhost:8080/"
        },
        "id": "rtF-qXyhHibQ",
        "outputId": "372cf1aa-d18c-4c20-eeb9-dc2268d55cb4"
      },
      "source": [
        "myList = [1,2,3]\r\n",
        "\r\n",
        "print(myList.append(4))\r\n",
        "\r\n",
        "#append는 출력이 없는 함수"
      ],
      "execution_count": null,
      "outputs": [
        {
          "output_type": "stream",
          "text": [
            "None\n"
          ],
          "name": "stdout"
        }
      ]
    },
    {
      "cell_type": "code",
      "metadata": {
        "colab": {
          "base_uri": "https://localhost:8080/"
        },
        "id": "ZIW68o9-KoEM",
        "outputId": "95ef9574-38b9-445c-c9ba-0a5b816d769c"
      },
      "source": [
        "myList = [1,2,3]\r\n",
        "\r\n",
        "print(myList.pop())\r\n",
        "\r\n",
        "#pop은 입력이 없는 함수"
      ],
      "execution_count": null,
      "outputs": [
        {
          "output_type": "stream",
          "text": [
            "3\n"
          ],
          "name": "stdout"
        }
      ]
    },
    {
      "cell_type": "markdown",
      "metadata": {
        "id": "qklcStgrQ-3R"
      },
      "source": [
        "입력값도 출력값도 없는 함수"
      ]
    },
    {
      "cell_type": "code",
      "metadata": {
        "colab": {
          "base_uri": "https://localhost:8080/"
        },
        "id": "h3cULz1FKwwM",
        "outputId": "8a5cc90d-cc51-4000-a5e5-ca3285c69896"
      },
      "source": [
        "def say():\r\n",
        "    print('Hi')\r\n",
        "print(say())"
      ],
      "execution_count": null,
      "outputs": [
        {
          "output_type": "stream",
          "text": [
            "Hi\n",
            "None\n"
          ],
          "name": "stdout"
        }
      ]
    },
    {
      "cell_type": "markdown",
      "metadata": {
        "id": "mHGtgUa2RMq8"
      },
      "source": [
        "여러개의 입력값"
      ]
    },
    {
      "cell_type": "code",
      "metadata": {
        "colab": {
          "base_uri": "https://localhost:8080/"
        },
        "id": "FJ0js6HxK22U",
        "outputId": "66ac41ae-3338-483d-c50b-32f3fa9da755"
      },
      "source": [
        "def sum_many(*args):\r\n",
        "    sum = 0\r\n",
        "    for i in args:\r\n",
        "        sum = sum + i\r\n",
        "    return sum\r\n",
        "print(sum_many(1,2,3))"
      ],
      "execution_count": null,
      "outputs": [
        {
          "output_type": "stream",
          "text": [
            "6\n"
          ],
          "name": "stdout"
        }
      ]
    },
    {
      "cell_type": "markdown",
      "metadata": {
        "id": "A93f7nBxHivH"
      },
      "source": [
        "키워드 파라미터"
      ]
    },
    {
      "cell_type": "code",
      "metadata": {
        "colab": {
          "base_uri": "https://localhost:8080/"
        },
        "id": "5UiRZeVhLmYs",
        "outputId": "7e760cc1-0afe-4025-e9c8-1159c888322e"
      },
      "source": [
        "def print_kwargs(**kwargs):\r\n",
        "    for k in kwargs.keys():\r\n",
        "        if (k == \"name\"):\r\n",
        "            print(\"당신의 이름은 : \" + k )\r\n",
        "\r\n",
        "print(print_kwargs(name = \"int 조수\", b = \"2\"))"
      ],
      "execution_count": null,
      "outputs": [
        {
          "output_type": "stream",
          "text": [
            "당신의 이름은 : name\n",
            "None\n"
          ],
          "name": "stdout"
        }
      ]
    },
    {
      "cell_type": "markdown",
      "metadata": {
        "id": "8hghLD_9Hi0D"
      },
      "source": [
        "\r\n",
        "함수의 결과값은 언제나 하나이다.\r\n"
      ]
    },
    {
      "cell_type": "code",
      "metadata": {
        "colab": {
          "base_uri": "https://localhost:8080/"
        },
        "id": "nJhYmx9SL3wN",
        "outputId": "566e5cf2-2c61-4ada-83bc-ee2cf801c748"
      },
      "source": [
        "def sum_and_mul(a,b):\r\n",
        "    return a+b, a*b\r\n",
        "\r\n",
        "print(sum_and_mul(1,2))"
      ],
      "execution_count": null,
      "outputs": [
        {
          "output_type": "stream",
          "text": [
            "(3, 2)\n"
          ],
          "name": "stdout"
        }
      ]
    },
    {
      "cell_type": "markdown",
      "metadata": {
        "id": "ivjl7oRXHi5d"
      },
      "source": [
        "안넣으면 기본적으로 true다"
      ]
    },
    {
      "cell_type": "code",
      "metadata": {
        "colab": {
          "base_uri": "https://localhost:8080/"
        },
        "id": "hhrLNRk_MGsn",
        "outputId": "104f9780-803f-4afc-ec53-d5624b459c1f"
      },
      "source": [
        "def say_myself(name, old, man=True):\r\n",
        "    print(\"나의 이름은 %s 입니다.\" % name)\r\n",
        "    print(\"나이는 %d살 입니다.\" % old)\r\n",
        "    if man:\r\n",
        "        print(\"남자입니다.\")\r\n",
        "    else:\r\n",
        "        print(\"여자입니다.\")\r\n",
        "say_myself(\"라이유튜브\", 20 , False)#기본값은 남자로 False를 지우면 남자입니다가 출력됨."
      ],
      "execution_count": null,
      "outputs": [
        {
          "output_type": "stream",
          "text": [
            "나의 이름은 라이유튜브 입니다.\n",
            "나이는 20살 입니다.\n",
            "여자입니다.\n"
          ],
          "name": "stdout"
        }
      ]
    },
    {
      "cell_type": "markdown",
      "metadata": {
        "id": "ysOXleBMHi9l"
      },
      "source": [
        "함수 매개 변수에 초깃값을 설정할 때 주의사항"
      ]
    },
    {
      "cell_type": "code",
      "metadata": {
        "colab": {
          "base_uri": "https://localhost:8080/",
          "height": 136
        },
        "id": "4nJn_BuMMy6Z",
        "outputId": "46f36522-16dc-477b-eb8e-dc9f53748b36"
      },
      "source": [
        "def say_myself(name, man=True, old): #기본값은 맨 뒤로 가야 정상 실행 됨.\r\n",
        "    print(\"나의 이름은 %s 입니다.\" % name)\r\n",
        "    print(\"나이는 %d살 입니다.\" % old)\r\n",
        "    if man:\r\n",
        "        print(\"남자입니다.\")\r\n",
        "    else:\r\n",
        "        print(\"여자입니다.\")\r\n",
        "say_myself(\"라이유튜브\", 20 , False)#기본값은 남자로.... False를 지우면 남자입니다가 출력됨."
      ],
      "execution_count": null,
      "outputs": [
        {
          "output_type": "error",
          "ename": "SyntaxError",
          "evalue": "ignored",
          "traceback": [
            "\u001b[0;36m  File \u001b[0;32m\"<ipython-input-47-3609d082a28e>\"\u001b[0;36m, line \u001b[0;32m1\u001b[0m\n\u001b[0;31m    def say_myself(name, man=True, old): #기본값은 맨 뒤로 가야 정상 실행 됨.\u001b[0m\n\u001b[0m                  ^\u001b[0m\n\u001b[0;31mSyntaxError\u001b[0m\u001b[0;31m:\u001b[0m non-default argument follows default argument\n"
          ]
        }
      ]
    },
    {
      "cell_type": "markdown",
      "metadata": {
        "id": "EOsBLNuNHjB_"
      },
      "source": [
        "함수안에서 선언된 변수의 효력 범위"
      ]
    },
    {
      "cell_type": "code",
      "metadata": {
        "colab": {
          "base_uri": "https://localhost:8080/"
        },
        "id": "AN9rv9jFNfAm",
        "outputId": "eaee7569-71ec-4ebf-c7ef-1aa823e3081c"
      },
      "source": [
        "\r\n",
        "a = 1   #a는 전역변수\r\n",
        "def vartest(a):\r\n",
        "    a = a + 1\r\n",
        "    # a는 지역변수. 함수 안에 있는 변수는 함수 안에서만 쓰인다.\r\n",
        "\r\n",
        "vartest(a) # a = 2???\r\n",
        "print(a)"
      ],
      "execution_count": null,
      "outputs": [
        {
          "output_type": "stream",
          "text": [
            "1\n"
          ],
          "name": "stdout"
        }
      ]
    },
    {
      "cell_type": "markdown",
      "metadata": {
        "id": "o3brVTCwHjGn"
      },
      "source": [
        "함수안에서 함수 밖의 변수를 변경하는 방법"
      ]
    },
    {
      "cell_type": "code",
      "metadata": {
        "colab": {
          "base_uri": "https://localhost:8080/"
        },
        "id": "2zEdm8vUOXyt",
        "outputId": "84cf589d-e674-4ffd-8356-25129d7d9dff"
      },
      "source": [
        "a = 1\r\n",
        "def vartest(a):\r\n",
        "    a = a + 1\r\n",
        "    return a\r\n",
        "\r\n",
        "a = vartest(a) # 아웃풋으로 나온 2를 다시 a에 할당한것.\r\n",
        "print(a)"
      ],
      "execution_count": null,
      "outputs": [
        {
          "output_type": "stream",
          "text": [
            "2\n"
          ],
          "name": "stdout"
        }
      ]
    },
    {
      "cell_type": "code",
      "metadata": {
        "colab": {
          "base_uri": "https://localhost:8080/"
        },
        "id": "gkf_AWcQOgla",
        "outputId": "c5d6ce48-9aec-4461-dabf-2ffa6817aba9"
      },
      "source": [
        "a = 1\r\n",
        "def vartest():\r\n",
        "    global a #global이라는 예약어를 쓴다\r\n",
        "    a = a + 1\r\n",
        "\r\n",
        "vartest() # a = 2???\r\n",
        "print(a)"
      ],
      "execution_count": null,
      "outputs": [
        {
          "output_type": "stream",
          "text": [
            "2\n"
          ],
          "name": "stdout"
        }
      ]
    },
    {
      "cell_type": "markdown",
      "metadata": {
        "id": "Ah403VPeO5FD"
      },
      "source": [
        "람다 함수"
      ]
    },
    {
      "cell_type": "code",
      "metadata": {
        "colab": {
          "base_uri": "https://localhost:8080/"
        },
        "id": "cjQpbQlHO24n",
        "outputId": "fde9ee32-cc1d-453e-94c5-7ed9e18360dd"
      },
      "source": [
        "def add(a, b):\r\n",
        "    return a+b\r\n",
        "\r\n",
        "add = lambda a, b: a+b #파이썬에의 축약본이라고 생각\r\n",
        "print(add(1,2))\r\n",
        "\r\n",
        "myList = [lambda a, b: a+b , lambda a, b: a*b] #함수 이름 없어도 됨. 리스트에는 보통 함수 넣기 어려움 그래서 람다를 사용하면 편리함\r\n",
        "print(myList[0](1,2))\r\n"
      ],
      "execution_count": null,
      "outputs": [
        {
          "output_type": "stream",
          "text": [
            "3\n",
            "3\n"
          ],
          "name": "stdout"
        }
      ]
    },
    {
      "cell_type": "markdown",
      "metadata": {
        "id": "u4emaXYKg_El"
      },
      "source": [
        "##04-2 사용자 입력과 출력\r\n",
        "input의 사용<br>\r\n",
        "입력을 받는 함수"
      ]
    },
    {
      "cell_type": "code",
      "metadata": {
        "colab": {
          "base_uri": "https://localhost:8080/"
        },
        "id": "lCt3YX2Cg9wv",
        "outputId": "511d3a9b-fbf4-4a70-82cd-d7243be9ae2a"
      },
      "source": [
        "a = input(\"숫자를 입력하세요:\" )    #내장함수\r\n",
        "\r\n"
      ],
      "execution_count": null,
      "outputs": [
        {
          "output_type": "stream",
          "text": [
            "숫자를 입력하세요:1\n"
          ],
          "name": "stdout"
        }
      ]
    },
    {
      "cell_type": "markdown",
      "metadata": {
        "id": "bVYNBmaCltw9"
      },
      "source": [
        "print문"
      ]
    },
    {
      "cell_type": "code",
      "metadata": {
        "colab": {
          "base_uri": "https://localhost:8080/"
        },
        "id": "JWB23Elek51b",
        "outputId": "36095f63-6ec4-4970-bbda-422a15d13b31"
      },
      "source": [
        "print(\"life\" \"is\" \"too short\") #파이써의 프린트는 막 써도 잘 된다.\r\n",
        "\r\n",
        "print(\"life\", \"is\", \"too short\")#,를 넣으면 띄어쓰기가 된다."
      ],
      "execution_count": null,
      "outputs": [
        {
          "output_type": "stream",
          "text": [
            "lifeistoo short\n",
            "life is too short\n"
          ],
          "name": "stdout"
        }
      ]
    },
    {
      "cell_type": "code",
      "metadata": {
        "colab": {
          "base_uri": "https://localhost:8080/"
        },
        "id": "ErWOgLOsk538",
        "outputId": "05675c25-13e1-4d4b-9c4d-158425daedd5"
      },
      "source": [
        "for i in range(10):\r\n",
        "    print(i, end=\" \") #end"
      ],
      "execution_count": null,
      "outputs": [
        {
          "output_type": "stream",
          "text": [
            "0 1 2 3 4 5 6 7 8 9 "
          ],
          "name": "stdout"
        }
      ]
    },
    {
      "cell_type": "markdown",
      "metadata": {
        "id": "qDYiwIEQqQpS"
      },
      "source": [
        "##04-3 파일 읽고 쓰기"
      ]
    },
    {
      "cell_type": "markdown",
      "metadata": {
        "id": "JrqCpoDdh6z_"
      },
      "source": [
        "### 파일 생성하기\r\n",
        "\r\n",
        "|r|읽기모드|파일을 읽기만 할 때 사용|\r\n",
        "|---|---|---|\r\n",
        "|w|쓰기모드|파일에 내용을 쓸 때 사용|\r\n",
        "|a|추가모드|파일의 마지막에 새로운 내용을 추가 시킬 때 사용|"
      ]
    },
    {
      "cell_type": "markdown",
      "metadata": {
        "id": "XlYWZmOaqdpk"
      },
      "source": [
        "#### 파일 쓰기모드"
      ]
    },
    {
      "cell_type": "code",
      "metadata": {
        "id": "skx6cerXh-yc"
      },
      "source": [
        "f = open(\"새파일.txt\", 'w')\r\n",
        "f.close()"
      ],
      "execution_count": null,
      "outputs": []
    },
    {
      "cell_type": "markdown",
      "metadata": {
        "id": "znzpdDlEmiWw"
      },
      "source": [
        "파일을 쓰기 모드로 열어 출력값 적기"
      ]
    },
    {
      "cell_type": "code",
      "metadata": {
        "id": "5xHarAzwmaY6"
      },
      "source": [
        "f = open(\"새파일.txt\", 'w', encoding=\"UTF-8\")\r\n",
        "for i in range(1, 11):\r\n",
        "    data = \"%d번째 줄입니다.\\n\" % i\r\n",
        "    f.write(data)\r\n",
        "f.close()"
      ],
      "execution_count": null,
      "outputs": []
    },
    {
      "cell_type": "markdown",
      "metadata": {
        "id": "I0GAt1N5qjjZ"
      },
      "source": [
        "#### 파일 읽기모드"
      ]
    },
    {
      "cell_type": "markdown",
      "metadata": {
        "id": "uXrl-q2vmz86"
      },
      "source": [
        "readline()함수"
      ]
    },
    {
      "cell_type": "code",
      "metadata": {
        "id": "Uyok6d6ynalC"
      },
      "source": [
        "f = open(\"새파일.txt\", 'r', encoding=\"UTF-8\")\r\n",
        "line = f.readline() #어떠한 파일이 있으면 한 줄 씩 읽는 함수\r\n",
        "print(line)\r\n",
        "f.close()\r\n",
        "\r\n",
        "#파일을 open했으면 항상 close를 해야한다."
      ],
      "execution_count": null,
      "outputs": []
    },
    {
      "cell_type": "markdown",
      "metadata": {
        "id": "GaFyA21onjQe"
      },
      "source": [
        "모든줄 읽기"
      ]
    },
    {
      "cell_type": "code",
      "metadata": {
        "id": "y1F_nC-qnjnh"
      },
      "source": [
        "f = open(\"새파일.txt\", 'r', encoding=\"UTF-8\")\r\n",
        "while True:\r\n",
        "    line = f.readline()\r\n",
        "    if not line: break #아무것도 없는 값이 들어오면 break해라.\r\n",
        "    print(line)\r\n",
        "f.close()"
      ],
      "execution_count": null,
      "outputs": []
    },
    {
      "cell_type": "markdown",
      "metadata": {
        "id": "qPNoy6SroMv2"
      },
      "source": [
        "readlines()함수"
      ]
    },
    {
      "cell_type": "code",
      "metadata": {
        "id": "DNGCyAyLoPbN"
      },
      "source": [
        "f = open(\"새파일.txt\", 'r', encoding=\"UTF-8\")\r\n",
        "lines = f.readlines()\r\n",
        "for line in lines:\r\n",
        "    print(line) #end =\"\"를 사용하면 \\n을 없앨수 있다. strip(\"\\n\")을 사용해도 없앨수 있다.\r\n",
        "f.close"
      ],
      "execution_count": null,
      "outputs": []
    },
    {
      "cell_type": "markdown",
      "metadata": {
        "id": "Wfj87RvYohFI"
      },
      "source": [
        "read()함수"
      ]
    },
    {
      "cell_type": "code",
      "metadata": {
        "id": "1Ruta2QJo3vs"
      },
      "source": [
        "f = open(\"새파일.txt\", 'r', encoding=\"UTF-8\")\r\n",
        "data = f.read()\r\n",
        "print(data)\r\n",
        "f.close"
      ],
      "execution_count": null,
      "outputs": []
    },
    {
      "cell_type": "markdown",
      "metadata": {
        "id": "JwM4qwqbo_J9"
      },
      "source": [
        "#### 파일 추가모드"
      ]
    },
    {
      "cell_type": "code",
      "metadata": {
        "id": "XJTpJVIMo_mG"
      },
      "source": [
        "f = open(\"새파일.txt\", 'a', encoding=\"UTF-8\")\r\n",
        "for i in range(11, 20):\r\n",
        "    data = \"%d번째 줄입니다.\\n\" % i\r\n",
        "    f.write(data)\r\n",
        "f.close"
      ],
      "execution_count": null,
      "outputs": []
    },
    {
      "cell_type": "markdown",
      "metadata": {
        "id": "J82lyQSNpXY6"
      },
      "source": [
        "#### with문\r\n",
        "close안해도 된다."
      ]
    },
    {
      "cell_type": "code",
      "metadata": {
        "id": "CjzGkA9EpY7J"
      },
      "source": [
        "with open(\"새파일.txt\", 'w', encoding=\"UTF-8\") as f:\r\n",
        "    f.write(\"Life is too short, you need python\")"
      ],
      "execution_count": null,
      "outputs": []
    }
  ]
}